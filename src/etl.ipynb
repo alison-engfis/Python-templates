{
 "cells": [
  {
   "cell_type": "markdown",
   "metadata": {},
   "source": [
    "# Template para ETL (Extract, Transform, Load)"
   ]
  },
  {
   "cell_type": "code",
   "execution_count": 1,
   "metadata": {},
   "outputs": [],
   "source": [
    "import pandas as pd\n",
    "import sqlite3  # Ou qualquer outro banco de dados "
   ]
  },
  {
   "cell_type": "code",
   "execution_count": null,
   "metadata": {},
   "outputs": [],
   "source": [
    "def extract_data(source: str) -> pd.DataFrame:\n",
    "    \"\"\"Extraindo dados de uma fonte (CSV, banco de dados).\"\"\"\n",
    "\n",
    "    df = pd.read_csv(source)  # Substituir conforme necessário\n",
    "\n",
    "    return df"
   ]
  },
  {
   "cell_type": "code",
   "execution_count": null,
   "metadata": {},
   "outputs": [],
   "source": [
    "def transform_data(df: pd.DataFrame) -> pd.DataFrame:\n",
    "    \"\"\"Transforma os dados (limpeza, normalização, etc.).\"\"\"\n",
    "\n",
    "    # Remover NaNs\n",
    "    df.dropna(inplace=True)\n",
    "    # Mais transformações conforme necessário\n",
    "    \n",
    "    return df"
   ]
  },
  {
   "cell_type": "code",
   "execution_count": null,
   "metadata": {},
   "outputs": [],
   "source": [
    "def load_data(df: pd.DataFrame, destination: str):\n",
    "    \"\"\"Carrega os dados em um destino (banco de dados).\"\"\"\n",
    "    \n",
    "    conn = sqlite3.connect(destination)\n",
    "    df.to_sql('tabela_destino', conn, if_exists='replace', index=False)\n",
    "    conn.close()"
   ]
  },
  {
   "cell_type": "code",
   "execution_count": null,
   "metadata": {},
   "outputs": [],
   "source": [
    "def main():\n",
    "    source = 'caminho_dados.csv'\n",
    "    destination = 'caminho_bancodados.db'\n",
    "    \n",
    "    df = extract_data(source)\n",
    "    df_transformed = transform_data(df)\n",
    "    load_data(df_transformed, destination)\n",
    "\n",
    "if __name__ == '__main__':\n",
    "    main()"
   ]
  }
 ],
 "metadata": {
  "kernelspec": {
   "display_name": "Python 3",
   "language": "python",
   "name": "python3"
  },
  "language_info": {
   "codemirror_mode": {
    "name": "ipython",
    "version": 3
   },
   "file_extension": ".py",
   "mimetype": "text/x-python",
   "name": "python",
   "nbconvert_exporter": "python",
   "pygments_lexer": "ipython3",
   "version": "3.12.0"
  }
 },
 "nbformat": 4,
 "nbformat_minor": 2
}
