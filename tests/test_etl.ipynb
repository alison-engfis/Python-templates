{
 "cells": [
  {
   "cell_type": "markdown",
   "metadata": {},
   "source": [
    "# Template de Teste Unitário"
   ]
  },
  {
   "cell_type": "code",
   "execution_count": null,
   "metadata": {},
   "outputs": [],
   "source": [
    "import unittest\n",
    "import pandas as pd\n",
    "from src.etl import extract_data, transform_data"
   ]
  },
  {
   "cell_type": "code",
   "execution_count": null,
   "metadata": {},
   "outputs": [],
   "source": [
    "class TestETL(unittest.TestCase):\n",
    "\n",
    "    def test_extract_data(self):\n",
    "        df = extract_data('caminho_dados_teste.csv')\n",
    "        self.assertIsInstance(df, pd.DataFrame)\n",
    "\n",
    "    def test_transform_data(self):\n",
    "        df = pd.DataFrame({'coluna1': [1, 2, None, 4]})\n",
    "        df_transformed = transform_data(df)\n",
    "        self.assertEqual(df_transformed.isnull().sum().sum(), 0)\n",
    "\n",
    "if __name__ == '__main__':\n",
    "    unittest.main()"
   ]
  }
 ],
 "metadata": {
  "language_info": {
   "name": "python"
  }
 },
 "nbformat": 4,
 "nbformat_minor": 2
}
